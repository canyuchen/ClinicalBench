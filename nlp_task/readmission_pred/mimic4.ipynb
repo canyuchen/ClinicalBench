{
 "cells": [
  {
   "cell_type": "code",
   "execution_count": 1,
   "metadata": {},
   "outputs": [
    {
     "name": "stderr",
     "output_type": "stream",
     "text": [
      "Generating samples for readmission_prediction_mimic4_fn: 100%|██████████| 180733/180733 [00:03<00:00, 48566.03it/s]\n"
     ]
    },
    {
     "data": {
      "text/plain": [
       "{'visit_id': '22595853',\n",
       " 'patient_id': '10000032',\n",
       " 'conditions': [['5723',\n",
       "   '78959',\n",
       "   '5715',\n",
       "   '07070',\n",
       "   '496',\n",
       "   '29680',\n",
       "   '30981',\n",
       "   'V1582']],\n",
       " 'procedures': [['5491']],\n",
       " 'drugs': [['B01A',\n",
       "   'J07B',\n",
       "   'A12B',\n",
       "   'C03D',\n",
       "   'C03C',\n",
       "   'N02B',\n",
       "   'J05A',\n",
       "   'R03A',\n",
       "   'N07B',\n",
       "   'R03B']],\n",
       " 'age': 51,\n",
       " 'gender': 'F',\n",
       " 'ethnicity': 'WHITE',\n",
       " 'label': 0}"
      ]
     },
     "execution_count": 1,
     "metadata": {},
     "output_type": "execute_result"
    }
   ],
   "source": [
    "from pyhealth.datasets import MIMIC4Dataset\n",
    "mimic4_base = MIMIC4Dataset(\n",
    "    root=\"/home/peter/files/PyHealth/data/mimic-iv2.2\",\n",
    "    tables=[\"diagnoses_icd\", \"procedures_icd\", \"prescriptions\"],\n",
    "    code_mapping={\"NDC\": (\"ATC\", {\"target_kwargs\": {\"level\": 3}})},\n",
    ")\n",
    "from pyhealth.tasks import readmission_prediction_mimic4_fn\n",
    "mimic4_sample = mimic4_base.set_task(readmission_prediction_mimic4_fn)\n",
    "mimic4_sample.samples[0]"
   ]
  },
  {
   "cell_type": "code",
   "execution_count": 3,
   "metadata": {},
   "outputs": [],
   "source": [
    "import json\n",
    "with open('/home/peter/files/PyHealth/nlp_task/readmission_pred/mimic4/readmission_pred_data.json', 'w') as f:\n",
    "    json.dump(mimic4_sample.samples, f, indent=2)"
   ]
  },
  {
   "cell_type": "code",
   "execution_count": 1,
   "metadata": {},
   "outputs": [
    {
     "name": "stderr",
     "output_type": "stream",
     "text": [
      "Generating samples for readmission_prediction_eicu_fn: 100%|██████████| 3671/3671 [00:00<00:00, 60989.27it/s]"
     ]
    },
    {
     "name": "stdout",
     "output_type": "stream",
     "text": [
      "{'visit_id': '163137', 'patient_id': '002-10157+145878', 'conditions': [['275.2', 'E83.42', '573.9', 'K76.9', '276.8', 'E87.6', '291.81', 'F10.239', '790.4', 'R74.0', '287.5', 'D69.6', '276.9', 'E87.8', '286.7', 'D68.4', '572.2']], 'procedures': [['notes/Progress Notes/Physical Exam/Physical Exam/Neurologic/GCS/Score/scored', 'notes/Progress Notes/Physical Exam/Physical Exam Obtain Options/Performed - Structured', 'notes/Progress Notes/Physical Exam/Physical Exam/Constitutional/Weight and I&O/I&&O (ml)/Intake Total', 'notes/Progress Notes/Physical Exam/Physical Exam/Constitutional/Weight and I&O/I&&O (ml)/Output Total', 'notes/Progress Notes/Physical Exam/Physical Exam/Constitutional/Weight and I&O/I&&O (ml)/Dialysis Net', 'notes/Progress Notes/Physical Exam/Physical Exam/Constitutional/Weight and I&O/I&&O (ml)/Total Net', 'notes/Progress Notes/Physical Exam/Physical Exam/Neurologic/GCS/13', 'notes/Progress Notes/Physical Exam/Physical Exam/Neurologic/GCS/Motor Score/6', 'notes/Progress Notes/Physical Exam/Physical Exam/Neurologic/GCS/Eyes Score/4', 'notes/Progress Notes/Physical Exam/Physical Exam/Neurologic/GCS/Verbal Score/5']], 'drugs': [['2 ML VIAL : ONDANSETRON HCL 4 MG/2ML IJ SOLN', '100 ML  -  POTASSIUM CHLORIDE 20 MEQ/100ML IV SOLN', 'POTASSIUM CHLORIDE CRYS ER 20 MEQ PO TBCR', 'NITROGLYCERIN 0.4 MG SL SUBL', 'POTASSIUM CHLORIDE 20 MEQ PO PACK', 'ONDANSETRON 4 MG PO TBDP', '250 ML  -  SODIUM CHLORIDE 0.9 % IV SOLN', 'SENNOSIDES-DOCUSATE SODIUM 8.6-50 MG PO TABS', 'BISACODYL 10 MG RE SUPP', '1 ML  -  LORAZEPAM 2 MG/ML IJ SOLN', '30 ML CUP : ALUM & MAG HYDROXIDE-SIMETH 200-200-20 MG/5ML PO SUSP', '10 ML CUP : MAGNESIUM HYDROXIDE 2400 MG/10ML PO SUSP', 'ACETAMINOPHEN 325 MG PO TABS', '30 ML  -  LACTULOSE 10 GM/15ML PO SOLN', 'MAGNESIUM SULFATE 2 G IN NS PREMIX', '100 ML  -  MAGNESIUM SULFATE IN D5W 10-5 MG/ML-% IV SOLN', '10 ML  -  CALCIUM GLUCONATE 10 % IV SOLN', '1000 ML  -  DEXTROSE-NACL 5-0.45 % IV SOLN', 'ENOXAPARIN SODIUM 40 MG/0.4ML SC SOLN', 'PANTOPRAZOLE SODIUM 40 MG PO TBEC', 'VITAMINS/MINERALS PO TABS', 'FOLIC ACID 1 MG PO TABS', 'THIAMINE HCL 100 MG PO TABS']], 'age': 47, 'gender': 'Female', 'ethnicity': 'Caucasian', 'label': 1}\n",
      "384\n"
     ]
    },
    {
     "name": "stderr",
     "output_type": "stream",
     "text": [
      "\n"
     ]
    }
   ],
   "source": [
    "from pyhealth.datasets import eICUDataset\n",
    "eicu_base = eICUDataset(\n",
    "    root=\"/home/peter/files/PyHealth/data/eicu\",\n",
    "    tables=[\"diagnosis\", \"medication\", \"physicalExam\"],\n",
    "    code_mapping={},\n",
    "    dev = True\n",
    ")\n",
    "from pyhealth.tasks import readmission_prediction_eicu_fn\n",
    "eicu_sample = eicu_base.set_task(readmission_prediction_eicu_fn)\n",
    "print(eicu_sample.samples[0])\n",
    "print(len(eicu_sample.samples)) \n"
   ]
  },
  {
   "cell_type": "code",
   "execution_count": null,
   "metadata": {},
   "outputs": [],
   "source": [
    "dic_code_to_name = {}\n",
    "import csv\n",
    "import json\n",
    "with open('/home/peter/files/PyHealth/data/eicu/diagnosis.csv', 'r') as f:\n",
    "    reader = csv.reader(f)\n",
    "    count = 0\n",
    "    for row in reader:\n",
    "        row50 = row[5].split(\",\")[0]\n",
    "        if len(row[5].split(\",\")) > 1:\n",
    "            row51 = row[5].split(\",\")[1]\n",
    "            dic_code_to_name[row51] = row[4]\n",
    "        dic_code_to_name[row50] = row[4]\n",
    "        count += 1\n",
    "\n",
    "\n",
    "for sample in eicu_sample.samples:\n",
    "    for i in range(len(sample['conditions'][0])):\n",
    "        if sample['conditions'][0][i] in dic_code_to_name:\n",
    "            sample['conditions'][0][i] = dic_code_to_name[sample['conditions'][0][i]]\n",
    "        else:\n",
    "            sample['conditions'][0][i] = \"\"\n",
    "\n",
    "\n",
    "\n",
    "with open('/home/peter/files/PyHealth/nlp_task/readmission_pred/eicu/readmission_pred_data.json', 'w') as f:\n",
    "    json.dump(eicu_sample.samples, f, indent=2)"
   ]
  }
 ],
 "metadata": {
  "kernelspec": {
   "display_name": "pyh",
   "language": "python",
   "name": "python3"
  },
  "language_info": {
   "codemirror_mode": {
    "name": "ipython",
    "version": 3
   },
   "file_extension": ".py",
   "mimetype": "text/x-python",
   "name": "python",
   "nbconvert_exporter": "python",
   "pygments_lexer": "ipython3",
   "version": "3.8.19"
  }
 },
 "nbformat": 4,
 "nbformat_minor": 2
}
