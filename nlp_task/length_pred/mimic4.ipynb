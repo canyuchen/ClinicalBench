{
 "cells": [
  {
   "cell_type": "code",
   "execution_count": 2,
   "metadata": {},
   "outputs": [
    {
     "name": "stdout",
     "output_type": "stream",
     "text": [
      "INFO: Pandarallel will run on 16 workers.\n",
      "INFO: Pandarallel will use Memory file system to transfer data between the main process and workers.\n",
      "finish basic patient information parsing : 39.208935499191284s\n",
      "finish parsing diagnoses_icd : 70.58752751350403s\n",
      "finish parsing procedures_icd : 37.41927194595337s\n",
      "finish parsing prescriptions : 300.39192271232605s\n"
     ]
    },
    {
     "name": "stderr",
     "output_type": "stream",
     "text": [
      "Mapping codes: 100%|██████████| 180733/180733 [05:32<00:00, 542.82it/s] \n",
      "Generating samples for length_of_stay_prediction_mimic4_fn: 100%|██████████| 180733/180733 [00:06<00:00, 26157.86it/s]\n"
     ]
    },
    {
     "data": {
      "text/plain": [
       "{'visit_id': '22595853',\n",
       " 'patient_id': '10000032',\n",
       " 'conditions': [['5723',\n",
       "   '78959',\n",
       "   '5715',\n",
       "   '07070',\n",
       "   '496',\n",
       "   '29680',\n",
       "   '30981',\n",
       "   'V1582']],\n",
       " 'procedures': [['5491']],\n",
       " 'drugs': [['B01A',\n",
       "   'J07B',\n",
       "   'A12B',\n",
       "   'C03D',\n",
       "   'C03C',\n",
       "   'N02B',\n",
       "   'J05A',\n",
       "   'R03A',\n",
       "   'N07B',\n",
       "   'R03B']],\n",
       " 'age': 51,\n",
       " 'gender': 'F',\n",
       " 'ethnicity': 'WHITE',\n",
       " 'label': 1}"
      ]
     },
     "execution_count": 2,
     "metadata": {},
     "output_type": "execute_result"
    }
   ],
   "source": [
    "# from pyhealth.datasets import MIMIC4Dataset\n",
    "# mimic4_base = MIMIC4Dataset(\n",
    "#     root=\"/home/peter/files/PyHealth/data/mimic-iv2.2\",\n",
    "#     tables=[\"diagnoses_icd\", \"procedures_icd\", \"prescriptions\"],\n",
    "#     code_mapping={\"NDC\": (\"ATC\", {\"target_kwargs\": {\"level\": 3}})},\n",
    "# )\n",
    "# from pyhealth.tasks import length_of_stay_prediction_mimic4_fn\n",
    "# mimic4_sample = mimic4_base.set_task(length_of_stay_prediction_mimic4_fn)\n",
    "# mimic4_sample.samples[0]"
   ]
  },
  {
   "cell_type": "code",
   "execution_count": null,
   "metadata": {},
   "outputs": [],
   "source": []
  },
  {
   "cell_type": "code",
   "execution_count": 3,
   "metadata": {},
   "outputs": [
    {
     "data": {
      "text/plain": [
       "98772"
      ]
     },
     "execution_count": 3,
     "metadata": {},
     "output_type": "execute_result"
    }
   ],
   "source": [
    "# len(mimic4_sample.samples)"
   ]
  },
  {
   "cell_type": "code",
   "execution_count": 5,
   "metadata": {},
   "outputs": [],
   "source": [
    "# import json\n",
    "# with open('/home/peter/files/PyHealth/nlp_task/length_pred/mimic4/length_pred_data.json', 'w') as f:\n",
    "#     json.dump(mimic4_sample.samples, f, indent=2)"
   ]
  },
  {
   "cell_type": "code",
   "execution_count": 1,
   "metadata": {},
   "outputs": [
    {
     "name": "stderr",
     "output_type": "stream",
     "text": [
      "Generating samples for length_of_stay_prediction_eicu_fn:  15%|█▍        | 24859/166355 [00:01<00:06, 23512.04it/s]\n"
     ]
    },
    {
     "ename": "TypeError",
     "evalue": "'<' not supported between instances of 'NoneType' and 'int'",
     "output_type": "error",
     "traceback": [
      "\u001b[0;31m---------------------------------------------------------------------------\u001b[0m",
      "\u001b[0;31mTypeError\u001b[0m                                 Traceback (most recent call last)",
      "Cell \u001b[0;32mIn[1], line 9\u001b[0m\n\u001b[1;32m      2\u001b[0m eicu_base \u001b[38;5;241m=\u001b[39m eICUDataset(\n\u001b[1;32m      3\u001b[0m     root\u001b[38;5;241m=\u001b[39m\u001b[38;5;124m\"\u001b[39m\u001b[38;5;124m/home/peter/files/PyHealth/data/eicu\u001b[39m\u001b[38;5;124m\"\u001b[39m,\n\u001b[1;32m      4\u001b[0m     tables\u001b[38;5;241m=\u001b[39m[\u001b[38;5;124m\"\u001b[39m\u001b[38;5;124mdiagnosis\u001b[39m\u001b[38;5;124m\"\u001b[39m, \u001b[38;5;124m\"\u001b[39m\u001b[38;5;124mmedication\u001b[39m\u001b[38;5;124m\"\u001b[39m, \u001b[38;5;124m\"\u001b[39m\u001b[38;5;124mphysicalExam\u001b[39m\u001b[38;5;124m\"\u001b[39m],\n\u001b[1;32m      5\u001b[0m     code_mapping\u001b[38;5;241m=\u001b[39m{},\n\u001b[1;32m      6\u001b[0m     \u001b[38;5;66;03m# dev = True\u001b[39;00m\n\u001b[1;32m      7\u001b[0m )\n\u001b[1;32m      8\u001b[0m \u001b[38;5;28;01mfrom\u001b[39;00m \u001b[38;5;21;01mpyhealth\u001b[39;00m\u001b[38;5;21;01m.\u001b[39;00m\u001b[38;5;21;01mtasks\u001b[39;00m \u001b[38;5;28;01mimport\u001b[39;00m length_of_stay_prediction_eicu_fn\n\u001b[0;32m----> 9\u001b[0m eicu_sample \u001b[38;5;241m=\u001b[39m \u001b[43meicu_base\u001b[49m\u001b[38;5;241;43m.\u001b[39;49m\u001b[43mset_task\u001b[49m\u001b[43m(\u001b[49m\u001b[43mlength_of_stay_prediction_eicu_fn\u001b[49m\u001b[43m)\u001b[49m\n\u001b[1;32m     10\u001b[0m \u001b[38;5;28mprint\u001b[39m(eicu_sample\u001b[38;5;241m.\u001b[39msamples[\u001b[38;5;241m0\u001b[39m])\n\u001b[1;32m     11\u001b[0m \u001b[38;5;28mprint\u001b[39m(\u001b[38;5;28mlen\u001b[39m(eicu_sample\u001b[38;5;241m.\u001b[39msamples)) \n",
      "File \u001b[0;32m~/anaconda3/envs/pyh/lib/python3.8/site-packages/pyhealth/datasets/base_ehr_dataset.py:417\u001b[0m, in \u001b[0;36mBaseEHRDataset.set_task\u001b[0;34m(self, task_fn, task_name)\u001b[0m\n\u001b[1;32m    413\u001b[0m samples \u001b[38;5;241m=\u001b[39m []\n\u001b[1;32m    414\u001b[0m \u001b[38;5;28;01mfor\u001b[39;00m patient_id, patient \u001b[38;5;129;01min\u001b[39;00m tqdm(\n\u001b[1;32m    415\u001b[0m     \u001b[38;5;28mself\u001b[39m\u001b[38;5;241m.\u001b[39mpatients\u001b[38;5;241m.\u001b[39mitems(), desc\u001b[38;5;241m=\u001b[39m\u001b[38;5;124mf\u001b[39m\u001b[38;5;124m\"\u001b[39m\u001b[38;5;124mGenerating samples for \u001b[39m\u001b[38;5;132;01m{\u001b[39;00mtask_name\u001b[38;5;132;01m}\u001b[39;00m\u001b[38;5;124m\"\u001b[39m\n\u001b[1;32m    416\u001b[0m ):\n\u001b[0;32m--> 417\u001b[0m     samples\u001b[38;5;241m.\u001b[39mextend(\u001b[43mtask_fn\u001b[49m\u001b[43m(\u001b[49m\u001b[43mpatient\u001b[49m\u001b[43m)\u001b[49m)\n\u001b[1;32m    419\u001b[0m sample_dataset \u001b[38;5;241m=\u001b[39m SampleEHRDataset(\n\u001b[1;32m    420\u001b[0m     samples\u001b[38;5;241m=\u001b[39msamples,\n\u001b[1;32m    421\u001b[0m     code_vocs\u001b[38;5;241m=\u001b[39m\u001b[38;5;28mself\u001b[39m\u001b[38;5;241m.\u001b[39mcode_vocs,\n\u001b[1;32m    422\u001b[0m     dataset_name\u001b[38;5;241m=\u001b[39m\u001b[38;5;28mself\u001b[39m\u001b[38;5;241m.\u001b[39mdataset_name,\n\u001b[1;32m    423\u001b[0m     task_name\u001b[38;5;241m=\u001b[39mtask_name,\n\u001b[1;32m    424\u001b[0m )\n\u001b[1;32m    425\u001b[0m \u001b[38;5;28;01mreturn\u001b[39;00m sample_dataset\n",
      "File \u001b[0;32m~/anaconda3/envs/pyh/lib/python3.8/site-packages/pyhealth/tasks/length_of_stay_prediction.py:249\u001b[0m, in \u001b[0;36mlength_of_stay_prediction_eicu_fn\u001b[0;34m(patient)\u001b[0m\n\u001b[1;32m    246\u001b[0m los_category \u001b[38;5;241m=\u001b[39m categorize_los(los_days)\n\u001b[1;32m    248\u001b[0m \u001b[38;5;66;03m# TODO: should also exclude visit with age < 18\u001b[39;00m\n\u001b[0;32m--> 249\u001b[0m \u001b[38;5;28;01mif\u001b[39;00m \u001b[43mage\u001b[49m\u001b[43m \u001b[49m\u001b[38;5;241;43m<\u001b[39;49m\u001b[43m \u001b[49m\u001b[38;5;241;43m18\u001b[39;49m:\n\u001b[1;32m    250\u001b[0m     \u001b[38;5;28;01mcontinue\u001b[39;00m\n\u001b[1;32m    251\u001b[0m samples\u001b[38;5;241m.\u001b[39mappend(\n\u001b[1;32m    252\u001b[0m     {\n\u001b[1;32m    253\u001b[0m         \u001b[38;5;124m\"\u001b[39m\u001b[38;5;124mvisit_id\u001b[39m\u001b[38;5;124m\"\u001b[39m: visit\u001b[38;5;241m.\u001b[39mvisit_id,\n\u001b[0;32m   (...)\u001b[0m\n\u001b[1;32m    262\u001b[0m     }\n\u001b[1;32m    263\u001b[0m )\n",
      "\u001b[0;31mTypeError\u001b[0m: '<' not supported between instances of 'NoneType' and 'int'"
     ]
    }
   ],
   "source": [
    "from pyhealth.datasets import eICUDataset\n",
    "eicu_base = eICUDataset(\n",
    "    root=\"/home/peter/files/PyHealth/data/eicu\",\n",
    "    tables=[\"diagnosis\", \"medication\", \"physicalExam\"],\n",
    "    code_mapping={},\n",
    "    # dev = True\n",
    ")\n",
    "from pyhealth.tasks import length_of_stay_prediction_eicu_fn\n",
    "eicu_sample = eicu_base.set_task(length_of_stay_prediction_eicu_fn)\n",
    "print(eicu_sample.samples[0])\n",
    "print(len(eicu_sample.samples)) \n"
   ]
  },
  {
   "cell_type": "code",
   "execution_count": 5,
   "metadata": {},
   "outputs": [
    {
     "name": "stdout",
     "output_type": "stream",
     "text": [
      "['458.9', 'I95.9', '038.9', 'A41.9', '595.9', 'N30.9', '584.9', 'N17.9', 'R78.81', '287.5', 'D69.6', '785.52', 'R65.21']\n"
     ]
    }
   ],
   "source": [
    "print((eicu_sample.samples[8]['conditions'][0]))"
   ]
  },
  {
   "cell_type": "code",
   "execution_count": 7,
   "metadata": {},
   "outputs": [],
   "source": [
    "dic_code_to_name = {}\n",
    "import csv\n",
    "import json\n",
    "with open('/home/peter/files/PyHealth/data/eicu/diagnosis.csv', 'r') as f:\n",
    "    reader = csv.reader(f)\n",
    "    count = 0\n",
    "    for row in reader:\n",
    "        row50 = row[5].split(\",\")[0]\n",
    "        if len(row[5].split(\",\")) > 1:\n",
    "            row51 = row[5].split(\",\")[1]\n",
    "            dic_code_to_name[row51] = row[4]\n",
    "        dic_code_to_name[row50] = row[4]\n",
    "        count += 1\n",
    "\n",
    "\n",
    "for sample in eicu_sample.samples:\n",
    "    for i in range(len(sample['conditions'][0])):\n",
    "        if sample['conditions'][0][i] in dic_code_to_name:\n",
    "            sample['conditions'][0][i] = dic_code_to_name[sample['conditions'][0][i]]\n",
    "        else:\n",
    "            sample['conditions'][0][i] = \"\"\n",
    "\n",
    "\n",
    "\n",
    "with open('/home/peter/files/PyHealth/nlp_task/length_pred/eicu/length_pred_data.json', 'w') as f:\n",
    "    json.dump(eicu_sample.samples, f, indent=2)"
   ]
  },
  {
   "cell_type": "code",
   "execution_count": 9,
   "metadata": {},
   "outputs": [
    {
     "data": {
      "text/plain": [
       "{'visit_id': '151900',\n",
       " 'patient_id': '002-10052+137239',\n",
       " 'conditions': [['pulmonary|pulmonary infections|pneumonia',\n",
       "   '',\n",
       "   'oncology|head and neck tumors|neck tumor|laryngeal CA',\n",
       "   '',\n",
       "   'pulmonary|disorders of the airways|COPD',\n",
       "   '',\n",
       "   'renal|disorder of kidney|acute renal failure|due to hypovolemia/decreased circulating volume',\n",
       "   'surgery|renal issues|acute renal failure|suspected',\n",
       "   'endocrine|glucose metabolism|hyperglycemia',\n",
       "   '',\n",
       "   'pulmonary|respiratory failure|acute respiratory distress',\n",
       "   'cardiovascular|shock / hypotension|septic shock',\n",
       "   '',\n",
       "   'hematology|platelet disorders|thrombocytosis',\n",
       "   '']],\n",
       " 'procedures': [['notes/Progress Notes/Physical Exam/Physical Exam/Neurologic/GCS/Score/scored',\n",
       "   'notes/Progress Notes/Physical Exam/Physical Exam Obtain Options/Performed - Structured',\n",
       "   'notes/Progress Notes/Physical Exam/Physical Exam/Constitutional/Vital Sign and Physiological Data/HR/HR Current',\n",
       "   'notes/Progress Notes/Physical Exam/Physical Exam/Constitutional/Vital Sign and Physiological Data/HR/HR Lowest',\n",
       "   'notes/Progress Notes/Physical Exam/Physical Exam/Constitutional/Vital Sign and Physiological Data/HR/HR Highest',\n",
       "   'notes/Progress Notes/Physical Exam/Physical Exam/Constitutional/Vital Sign and Physiological Data/BP (systolic)/BP (systolic) Current',\n",
       "   'notes/Progress Notes/Physical Exam/Physical Exam/Constitutional/Vital Sign and Physiological Data/BP (systolic)/BP (systolic) Lowest',\n",
       "   'notes/Progress Notes/Physical Exam/Physical Exam/Constitutional/Vital Sign and Physiological Data/BP (systolic)/BP (systolic) Highest',\n",
       "   'notes/Progress Notes/Physical Exam/Physical Exam/Constitutional/Vital Sign and Physiological Data/BP (diastolic)/BP (diastolic) Current',\n",
       "   'notes/Progress Notes/Physical Exam/Physical Exam/Constitutional/Vital Sign and Physiological Data/BP (diastolic)/BP (diastolic) Lowest',\n",
       "   'notes/Progress Notes/Physical Exam/Physical Exam/Constitutional/Vital Sign and Physiological Data/BP (diastolic)/BP (diastolic) Highest',\n",
       "   'notes/Progress Notes/Physical Exam/Physical Exam/Constitutional/Vital Sign and Physiological Data/O2 Sat%/O2 Sat% Current',\n",
       "   'notes/Progress Notes/Physical Exam/Physical Exam/Constitutional/Vital Sign and Physiological Data/O2 Sat%/O2 Sat% Lowest',\n",
       "   'notes/Progress Notes/Physical Exam/Physical Exam/Constitutional/Vital Sign and Physiological Data/O2 Sat%/O2 Sat% Highest',\n",
       "   'notes/Progress Notes/Physical Exam/Physical Exam/Constitutional/Vital Sign and Physiological Data/FiO2%/FiO2%',\n",
       "   'notes/Progress Notes/Physical Exam/Physical Exam/Constitutional/Weight and I&O/Weight (kg)/Admission',\n",
       "   'notes/Progress Notes/Physical Exam/Physical Exam/Constitutional/Weight and I&O/Weight (kg)/Current',\n",
       "   'notes/Progress Notes/Physical Exam/Physical Exam/Constitutional/Weight and I&O/Weight (kg)/Delta',\n",
       "   'notes/Progress Notes/Physical Exam/Physical Exam/Constitutional/Weight and I&O/I&&O (ml)/Intake Total',\n",
       "   'notes/Progress Notes/Physical Exam/Physical Exam/Constitutional/Weight and I&O/I&&O (ml)/Output Total',\n",
       "   'notes/Progress Notes/Physical Exam/Physical Exam/Constitutional/Weight and I&O/I&&O (ml)/Dialysis Net',\n",
       "   'notes/Progress Notes/Physical Exam/Physical Exam/Constitutional/Weight and I&O/I&&O (ml)/Total Net',\n",
       "   'notes/Progress Notes/Physical Exam/Physical Exam/Neurologic/GCS/Verbal Score/1',\n",
       "   'notes/Progress Notes/Physical Exam/Physical Exam/Neurologic/GCS/Eyes Score/4',\n",
       "   'notes/Progress Notes/Physical Exam/Physical Exam/Neurologic/GCS/Motor Score/6']],\n",
       " 'drugs': [['LEVOFLOXACIN IN D5W 750 MG/150ML IV SOLN',\n",
       "   '1000 ML  -  SODIUM CHLORIDE 0.9 % IV SOLN',\n",
       "   \"NOREPINEPHRINE 4 MG/250 ML NS INFUSION (STD CON'C) (REPACKAGE)\",\n",
       "   'VANCOMYCIN HCL 10 G IV SOLR',\n",
       "   '100 ML  -  MAGNESIUM SULFATE IN D5W 10-5 MG/ML-% IV SOLN',\n",
       "   '50 ML FLEX CONT : MAGNESIUM SULFATE 4% IJ SOLN',\n",
       "   'GLUCAGON HCL (RDNA) 1 MG IJ SOLR',\n",
       "   '50 ML SYRINGE : DEXTROSE 50 % IV SOLN',\n",
       "   '100 ML  -  POTASSIUM CHLORIDE 20 MEQ/100ML IV SOLN',\n",
       "   '1000 ML  -  DEXTROSE 5 % IV SOLN',\n",
       "   'POTASSIUM CHLORIDE CRYS ER 20 MEQ PO TBCR',\n",
       "   '37.5 G TUBE : GLUCOSE 40 % PO GEL',\n",
       "   'NITROGLYCERIN 0.4 MG SL SUBL',\n",
       "   '3 ML  -  ALBUTEROL SULFATE (2.5 MG/3ML) 0.083% IN NEBU',\n",
       "   '250 ML  -  SODIUM CHLORIDE 0.9 % IV SOLN',\n",
       "   '2 ML  -  FENTANYL CITRATE 0.05 MG/ML IJ SOLN',\n",
       "   'POTASSIUM CHLORIDE 20 MEQ PO PACK',\n",
       "   '473 ML  -  CHLORHEXIDINE GLUCONATE 0.12 % MT SOLN',\n",
       "   'ACETAMINOPHEN 325 MG PO TABS',\n",
       "   '2 ML VIAL : MIDAZOLAM HCL 2 MG/2ML IJ SOLN',\n",
       "   '500 ML  -  SODIUM CHLORIDE 0.9 % IV SOLN',\n",
       "   'BISACODYL 10 MG RE SUPP',\n",
       "   '30 ML CUP : ALUM & MAG HYDROXIDE-SIMETH 200-200-20 MG/5ML PO SUSP',\n",
       "   'POLYETHYLENE GLYCOL 3350 PO PACK',\n",
       "   '3 ML VIAL : INSULIN LISPRO (HUMAN) 100 UNIT/ML SC SOLN',\n",
       "   '1 ML  -  HEPARIN SODIUM (PORCINE) 5000 UNIT/ML IJ SOLN',\n",
       "   '3.5 G  -  REFRESH P.M. OP OINT',\n",
       "   'VITAMINS/MINERALS PO TABS',\n",
       "   'HYDROCORTISONE NA SUCCINATE PF 100 MG IJ SOLR',\n",
       "   'PIPERACILLIN SOD-TAZOBACTAM SO 3-0.375 G IV SOLR',\n",
       "   'PANTOPRAZOLE SODIUM 40 MG IV SOLR',\n",
       "   'VANCOMYCIN 1.25 GM IN NS 250 ML IVPB (REPACKAGE)',\n",
       "   'PREDNISONE 20 MG PO TABS',\n",
       "   'PANTOPRAZOLE SODIUM 40 MG PO TBEC',\n",
       "   '3 ML  -  IPRATROPIUM-ALBUTEROL 0.5-2.5 (3) MG/3ML IN SOLN',\n",
       "   'PREDNISONE 10 MG PO TABS']],\n",
       " 'age': 66,\n",
       " 'gender': 'Female',\n",
       " 'ethnicity': 'Caucasian',\n",
       " 'label': 1}"
      ]
     },
     "execution_count": 9,
     "metadata": {},
     "output_type": "execute_result"
    }
   ],
   "source": [
    "eicu_sample.samples[1]"
   ]
  },
  {
   "cell_type": "code",
   "execution_count": null,
   "metadata": {},
   "outputs": [],
   "source": []
  }
 ],
 "metadata": {
  "kernelspec": {
   "display_name": "pyh",
   "language": "python",
   "name": "python3"
  },
  "language_info": {
   "codemirror_mode": {
    "name": "ipython",
    "version": 3
   },
   "file_extension": ".py",
   "mimetype": "text/x-python",
   "name": "python",
   "nbconvert_exporter": "python",
   "pygments_lexer": "ipython3",
   "version": "3.8.19"
  }
 },
 "nbformat": 4,
 "nbformat_minor": 2
}
