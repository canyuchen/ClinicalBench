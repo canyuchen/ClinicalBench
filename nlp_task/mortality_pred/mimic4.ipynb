{
 "cells": [
  {
   "cell_type": "code",
   "execution_count": 1,
   "metadata": {},
   "outputs": [
    {
     "name": "stderr",
     "output_type": "stream",
     "text": [
      "Generating samples for mortality_prediction_mimic4_fn: 100%|██████████| 180733/180733 [00:05<00:00, 34837.12it/s]\n"
     ]
    },
    {
     "data": {
      "text/plain": [
       "{'visit_id': '22595853',\n",
       " 'patient_id': '10000032',\n",
       " 'conditions': [['5723',\n",
       "   '78959',\n",
       "   '5715',\n",
       "   '07070',\n",
       "   '496',\n",
       "   '29680',\n",
       "   '30981',\n",
       "   'V1582']],\n",
       " 'procedures': [['5491']],\n",
       " 'drugs': [['B01A',\n",
       "   'J07B',\n",
       "   'A12B',\n",
       "   'C03D',\n",
       "   'C03C',\n",
       "   'N02B',\n",
       "   'J05A',\n",
       "   'R03A',\n",
       "   'N07B',\n",
       "   'R03B']],\n",
       " 'age': 51,\n",
       " 'gender': 'F',\n",
       " 'ethnicity': 'WHITE',\n",
       " 'label': 0}"
      ]
     },
     "execution_count": 1,
     "metadata": {},
     "output_type": "execute_result"
    }
   ],
   "source": [
    "from pyhealth.datasets import MIMIC4Dataset\n",
    "mimic4_base = MIMIC4Dataset(\n",
    "    root=\"/home/peter/files/PyHealth/data/mimic-iv2.2\",\n",
    "    tables=[\"diagnoses_icd\", \"procedures_icd\", \"prescriptions\"],\n",
    "    code_mapping={\"NDC\": (\"ATC\", {\"target_kwargs\": {\"level\": 3}})},\n",
    ")\n",
    "from pyhealth.tasks import mortality_prediction_mimic4_fn\n",
    "mimic4_sample = mimic4_base.set_task(mortality_prediction_mimic4_fn)\n",
    "mimic4_sample.samples[0]\n"
   ]
  },
  {
   "cell_type": "code",
   "execution_count": 2,
   "metadata": {},
   "outputs": [
    {
     "data": {
      "text/plain": [
       "98772"
      ]
     },
     "execution_count": 2,
     "metadata": {},
     "output_type": "execute_result"
    }
   ],
   "source": [
    "len(mimic4_sample.samples)"
   ]
  },
  {
   "cell_type": "code",
   "execution_count": 3,
   "metadata": {},
   "outputs": [],
   "source": [
    "import json\n",
    "with open('/home/peter/files/PyHealth/nlp_task/mortality_pred/mimic4/mortality_pred_data.json', 'w') as f:\n",
    "    json.dump(mimic4_sample.samples, f, indent=2)"
   ]
  },
  {
   "cell_type": "code",
   "execution_count": 3,
   "metadata": {},
   "outputs": [
    {
     "name": "stdout",
     "output_type": "stream",
     "text": [
      "INFO: Pandarallel will run on 16 workers.\n",
      "INFO: Pandarallel will use Memory file system to transfer data between the main process and workers.\n"
     ]
    },
    {
     "name": "stderr",
     "output_type": "stream",
     "text": [
      "Parsing patients: 100%|██████████| 166355/166355 [01:29<00:00, 1853.98it/s]\n"
     ]
    },
    {
     "name": "stdout",
     "output_type": "stream",
     "text": [
      "finish basic patient information parsing : 91.6317708492279s\n",
      "finish parsing diagnosis : 84.15019536018372s\n",
      "finish parsing medication : 86.4191403388977s\n",
      "finish parsing physicalExam : 166.36131262779236s\n"
     ]
    },
    {
     "name": "stderr",
     "output_type": "stream",
     "text": [
      "Mapping codes: 100%|██████████| 166355/166355 [00:08<00:00, 19561.95it/s]\n",
      "Generating samples for mortality_prediction_eicu_fn:  15%|█▍        | 24859/166355 [00:01<00:07, 19306.85it/s]\n"
     ]
    },
    {
     "ename": "TypeError",
     "evalue": "'<' not supported between instances of 'NoneType' and 'int'",
     "output_type": "error",
     "traceback": [
      "\u001b[0;31m---------------------------------------------------------------------------\u001b[0m",
      "\u001b[0;31mTypeError\u001b[0m                                 Traceback (most recent call last)",
      "Cell \u001b[0;32mIn[3], line 9\u001b[0m\n\u001b[1;32m      2\u001b[0m eicu_base \u001b[38;5;241m=\u001b[39m eICUDataset(\n\u001b[1;32m      3\u001b[0m     root\u001b[38;5;241m=\u001b[39m\u001b[38;5;124m\"\u001b[39m\u001b[38;5;124m/home/peter/files/PyHealth/data/eicu\u001b[39m\u001b[38;5;124m\"\u001b[39m,\n\u001b[1;32m      4\u001b[0m     tables\u001b[38;5;241m=\u001b[39m[\u001b[38;5;124m\"\u001b[39m\u001b[38;5;124mdiagnosis\u001b[39m\u001b[38;5;124m\"\u001b[39m, \u001b[38;5;124m\"\u001b[39m\u001b[38;5;124mmedication\u001b[39m\u001b[38;5;124m\"\u001b[39m, \u001b[38;5;124m\"\u001b[39m\u001b[38;5;124mphysicalExam\u001b[39m\u001b[38;5;124m\"\u001b[39m],\n\u001b[1;32m      5\u001b[0m     code_mapping\u001b[38;5;241m=\u001b[39m{\u001b[38;5;124m\"\u001b[39m\u001b[38;5;124mNDC\u001b[39m\u001b[38;5;124m\"\u001b[39m: (\u001b[38;5;124m\"\u001b[39m\u001b[38;5;124mATC\u001b[39m\u001b[38;5;124m\"\u001b[39m, {\u001b[38;5;124m\"\u001b[39m\u001b[38;5;124mtarget_kwargs\u001b[39m\u001b[38;5;124m\"\u001b[39m: {\u001b[38;5;124m\"\u001b[39m\u001b[38;5;124mlevel\u001b[39m\u001b[38;5;124m\"\u001b[39m: \u001b[38;5;241m3\u001b[39m}})},\n\u001b[1;32m      6\u001b[0m     \u001b[38;5;66;03m# dev=True\u001b[39;00m\n\u001b[1;32m      7\u001b[0m )\n\u001b[1;32m      8\u001b[0m \u001b[38;5;28;01mfrom\u001b[39;00m \u001b[38;5;21;01mpyhealth\u001b[39;00m\u001b[38;5;21;01m.\u001b[39;00m\u001b[38;5;21;01mtasks\u001b[39;00m \u001b[38;5;28;01mimport\u001b[39;00m mortality_prediction_eicu_fn\n\u001b[0;32m----> 9\u001b[0m eicu_sample \u001b[38;5;241m=\u001b[39m \u001b[43meicu_base\u001b[49m\u001b[38;5;241;43m.\u001b[39;49m\u001b[43mset_task\u001b[49m\u001b[43m(\u001b[49m\u001b[43mmortality_prediction_eicu_fn\u001b[49m\u001b[43m)\u001b[49m\n\u001b[1;32m     10\u001b[0m \u001b[38;5;28mprint\u001b[39m(eicu_sample\u001b[38;5;241m.\u001b[39msamples[\u001b[38;5;241m0\u001b[39m])\n\u001b[1;32m     11\u001b[0m \u001b[38;5;28mprint\u001b[39m(\u001b[38;5;28mlen\u001b[39m(eicu_sample\u001b[38;5;241m.\u001b[39msamples)) \n",
      "File \u001b[0;32m~/anaconda3/envs/pyh/lib/python3.8/site-packages/pyhealth/datasets/base_ehr_dataset.py:417\u001b[0m, in \u001b[0;36mBaseEHRDataset.set_task\u001b[0;34m(self, task_fn, task_name)\u001b[0m\n\u001b[1;32m    413\u001b[0m samples \u001b[38;5;241m=\u001b[39m []\n\u001b[1;32m    414\u001b[0m \u001b[38;5;28;01mfor\u001b[39;00m patient_id, patient \u001b[38;5;129;01min\u001b[39;00m tqdm(\n\u001b[1;32m    415\u001b[0m     \u001b[38;5;28mself\u001b[39m\u001b[38;5;241m.\u001b[39mpatients\u001b[38;5;241m.\u001b[39mitems(), desc\u001b[38;5;241m=\u001b[39m\u001b[38;5;124mf\u001b[39m\u001b[38;5;124m\"\u001b[39m\u001b[38;5;124mGenerating samples for \u001b[39m\u001b[38;5;132;01m{\u001b[39;00mtask_name\u001b[38;5;132;01m}\u001b[39;00m\u001b[38;5;124m\"\u001b[39m\n\u001b[1;32m    416\u001b[0m ):\n\u001b[0;32m--> 417\u001b[0m     samples\u001b[38;5;241m.\u001b[39mextend(\u001b[43mtask_fn\u001b[49m\u001b[43m(\u001b[49m\u001b[43mpatient\u001b[49m\u001b[43m)\u001b[49m)\n\u001b[1;32m    419\u001b[0m sample_dataset \u001b[38;5;241m=\u001b[39m SampleEHRDataset(\n\u001b[1;32m    420\u001b[0m     samples\u001b[38;5;241m=\u001b[39msamples,\n\u001b[1;32m    421\u001b[0m     code_vocs\u001b[38;5;241m=\u001b[39m\u001b[38;5;28mself\u001b[39m\u001b[38;5;241m.\u001b[39mcode_vocs,\n\u001b[1;32m    422\u001b[0m     dataset_name\u001b[38;5;241m=\u001b[39m\u001b[38;5;28mself\u001b[39m\u001b[38;5;241m.\u001b[39mdataset_name,\n\u001b[1;32m    423\u001b[0m     task_name\u001b[38;5;241m=\u001b[39mtask_name,\n\u001b[1;32m    424\u001b[0m )\n\u001b[1;32m    425\u001b[0m \u001b[38;5;28;01mreturn\u001b[39;00m sample_dataset\n",
      "File \u001b[0;32m~/anaconda3/envs/pyh/lib/python3.8/site-packages/pyhealth/tasks/mortality_prediction.py:261\u001b[0m, in \u001b[0;36mmortality_prediction_eicu_fn\u001b[0;34m(patient)\u001b[0m\n\u001b[1;32m    259\u001b[0m     \u001b[38;5;28;01mcontinue\u001b[39;00m\n\u001b[1;32m    260\u001b[0m \u001b[38;5;66;03m# TODO: should also exclude visit with age < 18\u001b[39;00m\n\u001b[0;32m--> 261\u001b[0m \u001b[38;5;28;01mif\u001b[39;00m \u001b[43mage\u001b[49m\u001b[43m \u001b[49m\u001b[38;5;241;43m<\u001b[39;49m\u001b[43m \u001b[49m\u001b[38;5;241;43m18\u001b[39;49m:\n\u001b[1;32m    262\u001b[0m     \u001b[38;5;28;01mcontinue\u001b[39;00m\n\u001b[1;32m    263\u001b[0m samples\u001b[38;5;241m.\u001b[39mappend(\n\u001b[1;32m    264\u001b[0m     {\n\u001b[1;32m    265\u001b[0m         \u001b[38;5;124m\"\u001b[39m\u001b[38;5;124mvisit_id\u001b[39m\u001b[38;5;124m\"\u001b[39m: visit\u001b[38;5;241m.\u001b[39mvisit_id,\n\u001b[0;32m   (...)\u001b[0m\n\u001b[1;32m    274\u001b[0m     }\n\u001b[1;32m    275\u001b[0m )\n",
      "\u001b[0;31mTypeError\u001b[0m: '<' not supported between instances of 'NoneType' and 'int'"
     ]
    }
   ],
   "source": [
    "from pyhealth.datasets import eICUDataset\n",
    "eicu_base = eICUDataset(\n",
    "    root=\"/home/peter/files/PyHealth/data/eicu\",\n",
    "    tables=[\"diagnosis\", \"medication\", \"physicalExam\"],\n",
    "    code_mapping={\"NDC\": (\"ATC\", {\"target_kwargs\": {\"level\": 3}})},\n",
    "    # dev=True\n",
    ")\n",
    "from pyhealth.tasks import mortality_prediction_eicu_fn\n",
    "eicu_sample = eicu_base.set_task(mortality_prediction_eicu_fn)\n",
    "print(eicu_sample.samples[0])\n",
    "print(len(eicu_sample.samples)) "
   ]
  },
  {
   "cell_type": "code",
   "execution_count": 2,
   "metadata": {},
   "outputs": [],
   "source": [
    "dic_code_to_name = {}\n",
    "import csv\n",
    "import json\n",
    "with open('/home/peter/files/PyHealth/data/eicu/diagnosis.csv', 'r') as f:\n",
    "    reader = csv.reader(f)\n",
    "    count = 0\n",
    "    for row in reader:\n",
    "        row50 = row[5].split(\",\")[0]\n",
    "        if len(row[5].split(\",\")) > 1:\n",
    "            row51 = row[5].split(\",\")[1]\n",
    "            dic_code_to_name[row51] = row[4]\n",
    "        dic_code_to_name[row50] = row[4]\n",
    "        count += 1\n",
    "\n",
    "\n",
    "for sample in eicu_sample.samples:\n",
    "    for i in range(len(sample['conditions'][0])):\n",
    "        if sample['conditions'][0][i] in dic_code_to_name:\n",
    "            sample['conditions'][0][i] = dic_code_to_name[sample['conditions'][0][i]]\n",
    "        else:\n",
    "            sample['conditions'][0][i] = \"\"\n",
    "\n",
    "\n",
    "\n",
    "with open('/home/peter/files/PyHealth/nlp_task/mortality_pred/eicu/mortality_pred_data.json', 'w') as f:\n",
    "    json.dump(eicu_sample.samples, f, indent=2)"
   ]
  },
  {
   "cell_type": "code",
   "execution_count": null,
   "metadata": {},
   "outputs": [],
   "source": []
  }
 ],
 "metadata": {
  "kernelspec": {
   "display_name": "pyh",
   "language": "python",
   "name": "python3"
  },
  "language_info": {
   "codemirror_mode": {
    "name": "ipython",
    "version": 3
   },
   "file_extension": ".py",
   "mimetype": "text/x-python",
   "name": "python",
   "nbconvert_exporter": "python",
   "pygments_lexer": "ipython3",
   "version": "3.8.19"
  }
 },
 "nbformat": 4,
 "nbformat_minor": 2
}
